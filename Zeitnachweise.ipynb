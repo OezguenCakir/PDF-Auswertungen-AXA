{
 "cells": [
  {
   "cell_type": "markdown",
   "metadata": {
    "slideshow": {
     "slide_type": "slide"
    }
   },
   "source": [
    "# Zeitnachweise auswerten\n",
    "### PDF-Dateien zu Datensatz zusammenfassen"
   ]
  },
  {
   "cell_type": "code",
   "execution_count": null,
   "metadata": {},
   "outputs": [],
   "source": [
    "Ordner_für_Zeitnachweise = '/Users/ozguncakir/Repositories/PDF_Extrahieren/Zeitnachweise'"
   ]
  },
  {
   "cell_type": "markdown",
   "metadata": {
    "slideshow": {
     "slide_type": "slide"
    }
   },
   "source": [
    "## Libraries einlesen"
   ]
  },
  {
   "cell_type": "code",
   "execution_count": null,
   "metadata": {
    "slideshow": {
     "slide_type": "slide"
    }
   },
   "outputs": [],
   "source": [
    "import pandas as pd\n",
    "import PyPDF2\n",
    "import numpy as np\n",
    "from datetime import datetime\n",
    "import plotly.express as px\n",
    "import tabula\n",
    "import re\n",
    "import os\n",
    "import fnmatch\n",
    "import pkg_resources"
   ]
  },
  {
   "attachments": {},
   "cell_type": "markdown",
   "metadata": {},
   "source": [
    "### Kontrolliere ob eine ausreichende Pandas Version installiert ist"
   ]
  },
  {
   "cell_type": "code",
   "execution_count": null,
   "metadata": {},
   "outputs": [],
   "source": [
    "installed_packages_list = sorted([\"%s==%s\" % (i.key, i.version) for i in pkg_resources.working_set])\n",
    "matching_strings = float(fnmatch.filter(installed_packages_list, \"pandas==*\")[0].strip('pandas==')[:3])\n",
    "\n",
    "if matching_strings<1.3:\n",
    "    print('Du brauchst mindestens Pandas 1.3.0')"
   ]
  },
  {
   "cell_type": "markdown",
   "metadata": {},
   "source": [
    "## Funktionen definieren"
   ]
  },
  {
   "cell_type": "code",
   "execution_count": null,
   "metadata": {},
   "outputs": [],
   "source": [
    "def get_float_sign(column, df):\n",
    "    df[column] = np.where(\n",
    "        [str(d).__contains__('-') for d in df[column]],\n",
    "        [('-'+str(d).replace('-','').replace(',','.').replace(' ','')) for d in df[column]],\n",
    "        [(str(d).replace(',','.').replace(' ','')) for d in df[column]]).astype(float)\n",
    "    return df[column]"
   ]
  },
  {
   "cell_type": "code",
   "execution_count": null,
   "metadata": {},
   "outputs": [],
   "source": [
    "def column_to_float(columns_list, df):\n",
    "    for column in columns_list:\n",
    "        df[column] = np.where(\n",
    "            [str(d).__contains__('-') for d in df[column]],\n",
    "            [('-'+str(d).replace('-','').replace(',','.')) for d in df[column]],\n",
    "            [(str(d).replace(',','.')) for d in df[column]]\n",
    "            ).astype(float)\n",
    "    return df[column]"
   ]
  },
  {
   "cell_type": "code",
   "execution_count": null,
   "metadata": {},
   "outputs": [],
   "source": [
    "def strip_date(columns_list, df):\n",
    "    for column in columns_list:\n",
    "        df[column]=df[column].dt.time"
   ]
  },
  {
   "cell_type": "code",
   "execution_count": null,
   "metadata": {},
   "outputs": [],
   "source": [
    "def get_date(df, data, column, search, page, occurence, start, end):\n",
    "    df[column] = pd.to_datetime(data[page].split(search)[occurence][start:end], dayfirst=True)\n",
    "    df[column] = df[column].dt.date\n",
    "    return df[column]"
   ]
  },
  {
   "cell_type": "markdown",
   "metadata": {},
   "source": [
    "## Daten bearbeiten"
   ]
  },
  {
   "cell_type": "markdown",
   "metadata": {},
   "source": [
    "### Aggregierte Daten"
   ]
  },
  {
   "cell_type": "code",
   "execution_count": null,
   "metadata": {},
   "outputs": [],
   "source": [
    "dfs = []\n",
    "result = pd.DataFrame()\n",
    "for file_name in os.listdir(Ordner_für_Zeitnachweise):\n",
    "    file_path = os.path.join(Ordner_für_Zeitnachweise, file_name)\n",
    "    if os.path.isfile(file_path):\n",
    "        _, file_extension = os.path.splitext(file_path)\n",
    "        df_list = []\n",
    "        if file_extension == \".pdf\":\n",
    "            reader = PyPDF2.PdfReader(file_path)\n",
    "            num_pages = len(reader.pages) \n",
    "        data = []\n",
    "        for page_num in range(num_pages):\n",
    "            page = reader.pages[page_num]\n",
    "            data.append(page.extract_text())  \n",
    "        meta = reader.metadata\n",
    "        meta_dict = dict(meta)\n",
    "        index = range(len(meta_dict))\n",
    "        df = pd.DataFrame(meta_dict, index=index).drop_duplicates()\n",
    "        df['Zeitraum von'] = get_date(df, data, 'Zeitraum von', 'Zeitraum', 0, 1, 2, 12)\n",
    "        df['Zeitraum bis'] = get_date(df, data, 'Zeitraum von', 'Zeitraum', 0, 1, 15, 25)\n",
    "        df['Personalnummer'] = data[0].split(\"Personalnummer\")[1][2:10]\n",
    "        df['Personalbereich'] = data[0].split(\"Personalbereich\")[1][2:7]\n",
    "        df['Teilbereich'] = data[0].split(\"Teilbereich\")[1][2:6]\n",
    "        df['Mitarbeiterkreis'] = data[0].split(\"Mitarbeiterkreis\")[1][2:20]\n",
    "        df['Kostenstelle'] = data[0].split(\"Kostenstelle\")[1][2:12]\n",
    "        df['Org.-Einheit'] = data[0].split(\"Org.-Einheit\")[1][2:8]\n",
    "        df['Arbeitszeitplan'] = data[0].split(\"Arbeitszeitplan\")[1][2:7]\n",
    "        df['Anteil %'] = float(data[0].split(\"Anteil %\")[1][2:7].replace(',','.'))\n",
    "        df['Status'] = data[0].split(\"Status\")[1][2:20]\n",
    "        df['Anzahl Seiten'] = len(reader.pages)\n",
    "        df['Monatsübersicht zum Stichtag'] = data[1].split(\"Monatsübersicht zum Stichtag\")[1][1:11]\n",
    "        df['anrechenbare Istzeit'] = float(data[1].split(\"anrechenbare Istzeit\")[1][3:9].replace(',','.'))\n",
    "        df['Sollzeit'] = float(data[1].split(\"Sollzeit\")[1][3:9].replace(',','.'))\n",
    "        df['Zeit-Saldo akt.Periode'] = data[1].split(\"Zeit-Saldo akt.Periode\")[1][3:10]\n",
    "        df['Zeit-Saldo Vorperiode'] = data[1].split(\"Zeit-Saldo Vorperiode\")[1][3:10]\n",
    "        df['Zeit-Saldo zur Auszahlung'] = float(data[1].split(\"Zeit-Saldo zur Auszahlung\")[1][3:10].replace(',','.'))\n",
    "        df['Zeit-Saldo gesamt'] = data[1].split(\"Zeit-Saldo gesamt\")[1][3:10]\n",
    "        df['Überzeiten'] = float(data[1].split(\"Überzeiten\")[1][3:9].replace(',','.'))\n",
    "        df['Überzeit (Tag>10 Std.)'] = float(data[1].split(\"Überzeit (Tag>10 Std.)\")[1][3:9].replace(',','.'))\n",
    "        df['Überzeit außerhalb der Rahmenzeit'] = float(data[1].split(\"Überzeit außerhalb der Rahmenzeit\")[1][3:9].replace(',','.'))\n",
    "        df['Mehrarbeit Grundstunden'] = float(data[1].split(\"Mehrarbeit Grundstunden\")[1][3:9].replace(',','.'))\n",
    "        df['Mehrarbeit Zuschlag normal'] = float(data[1].split(\"Mehrarbeit Zuschlag normal\")[1][3:9].replace(',','.'))\n",
    "        df['Mehrarbeit Zuschlag Samstag'] = float(data[1].split(\"Mehrarbeit Zuschlag Samstag\")[1][3:9].replace(',','.'))\n",
    "        df['Mehrarbeit Zuschlag Sonntag'] = float(data[1].split(\"Mehrarbeit Zuschlag Sonntag\")[1][3:9].replace(',','.'))\n",
    "        df['Mehrarbeit Zuschlag Feiertag'] = float(data[1].split(\"Mehrarbeit Zuschlag Feiertag\")[1][3:9].replace(',','.'))\n",
    "        df['Nachtzuschlag'] = float(data[1].split(\"Nachtzuschlag\")[1][3:9].replace(',','.'))\n",
    "        df['Mehrarbeitskonto /Freizeit'] = float(data[1].split(\"Mehrarbeitskonto /Freizeit\")[1][3:9].replace(',','.'))\n",
    "        df['Resturlaub in Tagen'] = float(data[1].split(\"Resturlaub\")[1][3:9].replace(',','.'))\n",
    "        df['Zeit-Saldo akt.Periode'] = get_float_sign('Zeit-Saldo akt.Periode', df)\n",
    "        df['Zeit-Saldo Vorperiode'] = get_float_sign('Zeit-Saldo Vorperiode', df)\n",
    "        df['Zeit-Saldo gesamt'] = get_float_sign('Zeit-Saldo gesamt', df)\n",
    "        dfs.append(df)\n",
    "# df-Liste zu df machen\n",
    "df = pd.concat(dfs)\n",
    "# Reset Index und starte mit 1\n",
    "df_agg = df.reset_index().drop(columns='index')\n",
    "df_agg = df_agg.drop(columns= [ '/Author', '/CreationDate', '/Creator', '/Producer'])\n",
    "df_agg.index = df_agg.index + 1\n",
    "df_agg.head()"
   ]
  },
  {
   "cell_type": "markdown",
   "metadata": {},
   "source": [
    "## Einzelliste ziehen"
   ]
  },
  {
   "cell_type": "code",
   "execution_count": null,
   "metadata": {},
   "outputs": [],
   "source": [
    "dfs = []\n",
    "for file_name in os.listdir(Ordner_für_Zeitnachweise):\n",
    "    file_path = os.path.join(Ordner_für_Zeitnachweise, file_name)\n",
    "    if os.path.isfile(file_path):\n",
    "        _, file_extension = os.path.splitext(file_path)\n",
    "        df_list = []\n",
    "        if file_extension == \".pdf\":\n",
    "            tables = tabula.read_pdf(file_path, pages = \"all\", multiple_tables = True)\n",
    "            # Zwei Seiten reichen für alle Zeitnachweise\n",
    "            df_1 = pd.DataFrame(tables[1])                  # Tabelle der ersten Seite\n",
    "            df_1.drop(df_1.index[-1], inplace=True)         # lösche letzte Zeile\n",
    "            df_2 = pd.DataFrame(tables[2])                  # Tabelle der zweiten Seite\n",
    "            df_2.drop(df_2.index[-1], inplace=True)         # lösche letzte Zeile\n",
    "            df_3 = pd.concat([df_1,df_2])                   # Zusammenführung beider Tabellen\n",
    "            # Zusammenfügen beider Zeilen der Tabellen zu einer Zeile\n",
    "            result = df_3.iloc[0].astype(str).str.cat(df_3.iloc[1].astype(str), sep='\\r')\n",
    "            df = pd.DataFrame(result).transpose()\n",
    "            # Umbennenungen\n",
    "            df = df.rename(columns={\n",
    "                'Unnamed: 0':'Kommt & Geht',\n",
    "                'Kommt\\rUhrz.     Term.':'Ist-Zeit',\n",
    "                'Geht\\rUhrz.     Term.':'Über-Zeit',\n",
    "                'Pause':'Sollzeit',\n",
    "                'Ist-\\rZeit':'Pause',\n",
    "                'Über-\\rZeit':'anrech. Istzeit',\n",
    "                'anrech.\\rIstzeit':'Zeit-Saldo',\n",
    "                'Soll-\\rzeit':'Mehrzeit Grundst.',\n",
    "                'Zeit-\\rSaldo':'Zuschlag'\n",
    "                })\n",
    "            # entferne leere Spalten\n",
    "            df = df.drop(columns=['Mehrzeit\\rGrundst.', 'Zuschl.'])\n",
    "            # String zu Liste transformieren\n",
    "            for col in df.columns:\n",
    "                df[col].iloc[0] = df[col].str.split(\"\\r\").iloc[0]\n",
    "            # Index aktualisieren\n",
    "            df.reset_index(inplace=True)\n",
    "            df.drop(columns=['index'], inplace=True)\n",
    "            # Meistens müssen die zwei aufeinanderfolgenden Elemenete für Zeitstempelpaare zusammengeführt werden, es sei denn die Pause wurde nicht ausgebucht \n",
    "            condition = lambda x: x.startswith(('07', '08', '09', '10'))\n",
    "            condition_2 = lambda x: x.startswith(('1', '0'))\n",
    "            my_list = df['Kommt & Geht'].iloc[0]\n",
    "            new_list = []\n",
    "            temp = my_list[0]\n",
    "            for i in range(1, len(my_list)):\n",
    "                if condition(my_list[i]) or not condition_2(my_list[i]):\n",
    "                    new_list.append(temp)\n",
    "                    temp = my_list[i]\n",
    "                else:\n",
    "                    temp += my_list[i]\n",
    "            new_list.append(temp)\n",
    "            df['Kommt & Geht'].iloc[0]=new_list\n",
    "            # Bei Feiertagen werden keine zugehörigen Zeilen hinzugefügt, hier füge ich dafür nan Werte ein\n",
    "            for count, val in enumerate(df['Kommt & Geht'].iloc[0]):\n",
    "                if not val.startswith(('1', '0')) and not val=='Urlaub':\n",
    "                    df['Ist-Zeit'].iloc[0].insert(count, np.nan)\n",
    "                    df['Über-Zeit'].iloc[0].insert(count, np.nan)\n",
    "                    df['Pause'].iloc[0].insert(count, np.nan)\n",
    "                    df['anrech. Istzeit'].iloc[0].insert(count, np.nan)\n",
    "                    df['Sollzeit'].iloc[0].insert(count, np.nan)\n",
    "                    df['Zeit-Saldo'].iloc[0].insert(count, np.nan)\n",
    "                    df['Mehrzeit Grundst.'].iloc[0].insert(count, np.nan)\n",
    "                    df['Zuschlag'].iloc[0].insert(count, np.nan)\n",
    "                if not val.startswith(('1', '0')):\n",
    "                    df['Kommt & Geht'].iloc[0][count] = '00:0000:00'\n",
    "            # Zellen mit Listen in Zeilen exploden (min. pandas 1.3 nötig)\n",
    "            df = df.explode(column=['Tag', 'Kommt & Geht', 'Ist-Zeit', 'Über-Zeit', 'Pause', 'anrech. Istzeit', 'Sollzeit', 'Zeit-Saldo', 'Mehrzeit Grundst.', 'Zuschlag'])\n",
    "            # Spalten 'regexen'\n",
    "            df['Büro'] = np.where(df['Kommt & Geht'].str.contains('H'), 'Büro', 'Home-Office')\n",
    "            df['Haus'] =  np.where(df['Kommt & Geht'].str.contains('H'), df['Kommt & Geht'].apply(lambda x: x[x.find('H'):x.find('H')+3]), 'Zuhause')\n",
    "            df['Kommt'] = pd.to_datetime(df['Kommt & Geht'].str.slice(stop=5), format='%H:%M')\n",
    "            df['Zeit'] = df['Kommt & Geht'].apply(lambda x: re.sub('H.{4}', '1', x) if 'H' in x else x)\n",
    "            df['Zeit'] = df['Zeit'].apply(lambda x: re.sub('H.{4}', '1', x).replace(x[x.find('H'):x.find('H')+4],''))\n",
    "            df['Geht'] = pd.to_datetime(df['Zeit'].str.slice(start=-5), format='%H:%M')\n",
    "            df['Pause-Anfang'] = df['Zeit'].apply(lambda x: x[5:10])\n",
    "            df['Pause-Anfang'] = pd.to_datetime(np.where( df['Pause-Anfang'] == df['Zeit'].str.slice(start=-5), None, df['Pause-Anfang']), format='%H:%M')\n",
    "            df['Pause-Ende'] = df['Zeit'].apply(lambda x: x[10:15])\n",
    "            df['Pause-Ende'] = pd.to_datetime(np.where( df['Pause-Ende'] == '', None, df['Pause-Ende']), format='%H:%M')\n",
    "            df['Gesamt-Zeit'] = (df['Geht'] - df['Kommt']) / pd.to_timedelta(1, unit='H')\n",
    "            df['Vormittag-Zeit'] = (df['Pause-Anfang'] - df['Kommt']) / pd.to_timedelta(1, unit='H')\n",
    "            df['Pausen-Dauer'] = (df['Pause-Ende'] - df['Pause-Anfang']) / pd.to_timedelta(1, unit='H')\n",
    "            df['Nachmittag-Zeit'] = (df['Geht'] - df['Pause-Ende']) / pd.to_timedelta(1, unit='H')\n",
    "            df['Datum'] = [datetime(int(tables[3].columns[0][-4:]), int(tables[3].columns[0][-7:-5]), int(d[:2])) for d in df['Tag'] ]\n",
    "            df['Wochentag'] = df['Tag'].apply(lambda x: x[2:])\n",
    "            strip_date(['Kommt', 'Geht', 'Pause-Anfang', 'Pause-Ende'], df)\n",
    "            # Zwischenzeit nach Arbeitstagen, Urlaub und Feiertagen unterscheiden\n",
    "            df['Arbeitstag'] = np.where( [type(x)==float for x in df['Ist-Zeit']], 'Feiertag', np.where( df['Gesamt-Zeit']==0, 'Urlaub', 'Arbeitstag')) \n",
    "            # Zahlen im String formatieren\n",
    "            column_to_float(['Ist-Zeit', 'Über-Zeit', 'Pause', 'anrech. Istzeit', 'Sollzeit', 'Mehrzeit Grundst.', 'Zuschlag', 'Zeit-Saldo'], df)\n",
    "            df['Pause-Gesamt'] = df['Pausen-Dauer']+df['Pause']\n",
    "            # unnötige Spalten droppen\n",
    "            df = df.drop(columns=['Tag', 'Zeit', 'Kommt & Geht'])\n",
    "            # df zu df-Liste hinzufügen\n",
    "            dfs.append(df)\n",
    "# df-Liste zu df machen\n",
    "df = pd.concat(dfs)\n",
    "# Reset Index und starte mit 1\n",
    "df = df.reset_index().drop(columns='index')\n",
    "df.index = df.index + 1\n",
    "df.head()"
   ]
  },
  {
   "attachments": {},
   "cell_type": "markdown",
   "metadata": {},
   "source": [
    "## Export als Excel-Datei"
   ]
  },
  {
   "cell_type": "code",
   "execution_count": null,
   "metadata": {},
   "outputs": [],
   "source": [
    "dfs = {'Zusammenfassung': df_agg, 'Einzelliste': df} # dict of sheetnames: dataframes\n",
    "\n",
    "writer = pd.ExcelWriter('Zeitnachweise.xlsx', engine='xlsxwriter')\n",
    "for sheetname, df in dfs.items():  # loop through dict of dataframes\n",
    "    (max_row, max_col) = df.shape \n",
    "    df.to_excel(writer, sheet_name=sheetname, index=False)  # send df to writer\n",
    "    workbook  = writer.book\n",
    "    workbook.formats[0].set_font_name('Source Sans Pro')\n",
    "    workbook.formats[0].set_border(2)\n",
    "    worksheet = writer.sheets[sheetname]  # pull worksheet object\n",
    "    worksheet.autofilter(0, 0, df.shape[0], df.shape[1]-1) # activate filter on column headers\n",
    "    header_format = workbook.add_format({ # define header format\n",
    "        'bold': True,\n",
    "        'text_wrap': True,\n",
    "        'valign': 'top',\n",
    "        'fg_color': '#006E9D',\n",
    "        'font_color': 'white',\n",
    "        'border': 0,\n",
    "        'font_name': 'Source Sans Pro'\n",
    "        })\n",
    "    for idx, col in enumerate(df):  # loop through all columns\n",
    "        series = df[col]\n",
    "        max_len = max(\n",
    "            series.astype(str).map(len).max(),  # len of largest item\n",
    "            len(str(series.name))  # len of column name/header\n",
    "            ) + 5  # adding more space\n",
    "        worksheet.set_column(idx, idx, max_len)  # set column width\n",
    "        for col_num, value in enumerate(df.columns.values):\n",
    "            worksheet.write(0, col_num, value, header_format) # set header format\n",
    "writer.close()"
   ]
  },
  {
   "cell_type": "code",
   "execution_count": null,
   "metadata": {},
   "outputs": [],
   "source": [
    "# auf Arbeitstage filtern\n",
    "main_df = df[df['Arbeitstag']=='Arbeitstag'].reset_index().drop(columns='index')\n",
    "main_df.index = main_df.index + 1"
   ]
  },
  {
   "cell_type": "markdown",
   "metadata": {},
   "source": [
    "### Arbeitstage, Urlaub und Feiertage"
   ]
  },
  {
   "cell_type": "code",
   "execution_count": null,
   "metadata": {
    "slideshow": {
     "slide_type": "slide"
    }
   },
   "outputs": [],
   "source": [
    "num_workdays = len(df[df['Arbeitstag']=='Arbeitstag'])\n",
    "num_vacation = len(df[df['Arbeitstag']=='Urlaub'])\n",
    "num_holidays = len(df[df['Arbeitstag']=='Feiertag'])\n",
    "num_weekends = (df['Datum'].max() - df['Datum'].min()).days - len(df)\n",
    "share_workdays = \"{0:.0%}\".format(len(df[df['Arbeitstag']=='Arbeitstag']) / (df['Datum'].max() - df['Datum'].min()).days)\n",
    "\n",
    "fig = px.pie(\n",
    "    df,\n",
    "    names=['Arbeitstag', 'Wochenende', 'Urlaub', 'Feiertag'],\n",
    "    values=[num_workdays, num_weekends, num_vacation, num_holidays],\n",
    "    color_discrete_sequence=['#0068C9', '#00A0E7', '#00D0E0', '#70FACB'],\n",
    "    title = 'An '+share_workdays + ' der Tage hast du gearbeitet' + '<br><sup>Unterteilung des Zeitraums in Arbeitstage, Urlaub und Feiertage</sup>')\n",
    "fig.update_traces(textposition='inside', textinfo='value+label')\n"
   ]
  },
  {
   "cell_type": "markdown",
   "metadata": {},
   "source": [
    "### Wo du arbeitest"
   ]
  },
  {
   "cell_type": "code",
   "execution_count": null,
   "metadata": {},
   "outputs": [],
   "source": [
    "haus = df.groupby(by='Haus').size().sort_values(ascending=False)\n",
    "haus_most = haus[haus.index!='Zuhause'].index[0].replace('H','').replace('0','')\n",
    "haus_most_days = str(haus[haus.index!='Zuhause'][0])\n",
    "\n",
    "fig = px.pie(\n",
    "    df,\n",
    "    names='Haus',\n",
    "    color_discrete_sequence=['#0068C9', '#00A0E7', '#00D0E0', '#70FACB'],\n",
    "    title='Im Büro warst du am häufigsten in Haus ' + haus_most + '<br><sup>In welchem Haus du arbeitest</sup>')\n",
    "fig.update_traces(textposition='inside', textinfo='value+label')\n",
    "fig.update_traces(hovertemplate=\"%{label}: %{value} Tage<extra></extra>\")"
   ]
  },
  {
   "cell_type": "markdown",
   "metadata": {},
   "source": [
    "### Deine Home-Office-Quote"
   ]
  },
  {
   "cell_type": "code",
   "execution_count": null,
   "metadata": {},
   "outputs": [],
   "source": [
    "ho_quota = \"{0:.0%}\".format(len(main_df[main_df['Büro']=='Home-Office']) / len(main_df))\n",
    "diff_ho = int(0.4*len(main_df)) - len(main_df[(main_df['Büro']=='Büro')])\n",
    "if diff_ho>0: \n",
    "    delta_ho = str(diff_ho) + ' Tage hättest du häufiger im Büro sein müssen'\n",
    "else:\n",
    "    delta_ho = str(diff_ho) + ' Tage hättest du weniger im Büro sein können'\n",
    "\n",
    "fig = px.pie(\n",
    "    df,\n",
    "    names='Büro',\n",
    "    color_discrete_sequence=['#0068C9', '#00A0E7', '#00D0E0', '#70FACB'],\n",
    "    title=ho_quota + ' der Tage verbringst du im Home-Office' + '<br><sup>' + delta_ho + '</sup>')\n",
    "fig.update_traces(textposition='inside', textinfo='value+label')\n",
    "fig.update_traces(hovertemplate=\"%{label}: %{value} Tage<extra></extra>\")"
   ]
  },
  {
   "cell_type": "code",
   "execution_count": null,
   "metadata": {},
   "outputs": [],
   "source": [
    "ho_df = main_df.groupby(by=['Büro', 'Wochentag']).size().sort_values(ascending=False).reset_index()\n",
    "ho_df[ho_df['Büro']=='Home-Office']\n",
    "\n",
    "fig = px.bar(\n",
    "    ho_df,\n",
    "    x='Wochentag',\n",
    "    y=0,\n",
    "    color='Büro',\n",
    "    title='Home-Office im Wochenverlauf',\n",
    "    category_orders={'Wochentag':['MO', 'DI', 'MI', 'DO', 'FR']},\n",
    "    color_discrete_sequence=['#0068C9', '#00A0E7'],\n",
    "    labels={'0': \"Anzahl Tage\"})\n",
    "fig.update_traces(hovertemplate=\"%{label}: %{value} Tage<extra></extra>\")"
   ]
  },
  {
   "cell_type": "markdown",
   "metadata": {},
   "source": [
    "### Kombination der oberen Visualisierungen"
   ]
  },
  {
   "cell_type": "code",
   "execution_count": null,
   "metadata": {},
   "outputs": [],
   "source": [
    "fig = px.sunburst(\n",
    "    df, \n",
    "    path=['Arbeitstag', 'Büro', 'Haus'],\n",
    "    color_discrete_sequence=['#0068C9', '#00A0E7', '#00D0E0', '#70FACB'],\n",
    "    title = \"Anteile der Arbeitstage und wo du arbeitest<br><sup>Klick doch in die Kreise</sup>\")\n",
    "fig.for_each_annotation(lambda a: a.update(text=a.text.split(\"=\")[-1]))\n",
    "fig.update_traces(hovertemplate=\"%{label}: %{value} Tage<extra></extra>\")"
   ]
  }
 ],
 "metadata": {
  "kernelspec": {
   "display_name": "Python 3",
   "language": "python",
   "name": "python3"
  },
  "language_info": {
   "codemirror_mode": {
    "name": "ipython",
    "version": 3
   },
   "file_extension": ".py",
   "mimetype": "text/x-python",
   "name": "python",
   "nbconvert_exporter": "python",
   "pygments_lexer": "ipython3",
   "version": "3.8.5"
  },
  "vscode": {
   "interpreter": {
    "hash": "af592ee784abd8a1fff9aec8d3cfa28cdc80b56506d9c4f278ade371da057c8d"
   }
  }
 },
 "nbformat": 4,
 "nbformat_minor": 4
}
